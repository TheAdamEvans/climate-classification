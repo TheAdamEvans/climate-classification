{
 "cells": [
  {
   "cell_type": "code",
   "execution_count": 1,
   "metadata": {},
   "outputs": [],
   "source": [
    "import pandas as pd\n",
    "import numpy as np"
   ]
  },
  {
   "cell_type": "code",
   "execution_count": 2,
   "metadata": {},
   "outputs": [],
   "source": [
    "import requests\n",
    "import json\n",
    "import urllib"
   ]
  },
  {
   "cell_type": "code",
   "execution_count": 5,
   "metadata": {},
   "outputs": [],
   "source": [
    "from pathlib import Path\n",
    "PATH = Path('/home/ubuntu/climate-classification/')"
   ]
  },
  {
   "cell_type": "code",
   "execution_count": 6,
   "metadata": {},
   "outputs": [],
   "source": [
    "GOOGLE_API_KEY = "
   ]
  },
  {
   "cell_type": "code",
   "execution_count": 7,
   "metadata": {},
   "outputs": [],
   "source": [
    "# !curl --header \"Host: data.un.org\" --header \"Connection: keep-alive\" \"http://data.un.org/Handlers/DownloadHandler.ashx?DataFilter=tableCode:240;sexCode:0&DataMartId=POP&Format=csv&c=2,3,6,8,10,12,14,16,17,18&s=_countryEnglishNameOrderBy:asc,refYear:desc,areaCode:asc\" -o \"UNdata_Export.zip\" -L\n",
    "# !unzip \"UNdata_Export.zip\"\n",
    "# !rm \"UNdata_Export.zip\"\n",
    "# !mv UNdata*.csv population.csv"
   ]
  },
  {
   "cell_type": "code",
   "execution_count": 8,
   "metadata": {},
   "outputs": [],
   "source": [
    "df = pd.read_csv(PATH/'population.csv')\n",
    "df.columns = df.columns.str.lower()"
   ]
  },
  {
   "cell_type": "code",
   "execution_count": 9,
   "metadata": {},
   "outputs": [],
   "source": [
    "# only look at records with these parameters\n",
    "df = df[df['city type']=='City proper']\n",
    "df = df[df['reliability']=='Final figure, complete']"
   ]
  },
  {
   "cell_type": "code",
   "execution_count": 10,
   "metadata": {},
   "outputs": [],
   "source": [
    "def refine_information(m):\n",
    "    latest = m.loc[m['source year'].idxmax()]\n",
    "    res = latest[['country or area','value']]\n",
    "    return res\n",
    "\n",
    "def get_latest_data(df):\n",
    "    summary = df.groupby('city').apply(refine_information)\n",
    "    summary.columns = ['country','population']\n",
    "    summary.sort_values('population', inplace=True, ascending=False)\n",
    "    summary.reset_index(inplace=True)\n",
    "    return summary"
   ]
  },
  {
   "cell_type": "code",
   "execution_count": 11,
   "metadata": {},
   "outputs": [],
   "source": [
    "df = get_latest_data(df)"
   ]
  },
  {
   "cell_type": "code",
   "execution_count": 12,
   "metadata": {},
   "outputs": [],
   "source": [
    "df['population'] = df['population'].astype('int')\n",
    "df['combined_city_country'] = df['city'] + ' ' + df['country']"
   ]
  },
  {
   "cell_type": "code",
   "execution_count": 13,
   "metadata": {},
   "outputs": [],
   "source": [
    "# make google map's lookup easier\n",
    "df.loc[df['country']==\"Democratic People's Republic of Korea\",'country']='North Korea'\n",
    "df.loc[df['city']=='Bhalswa Jahangir Pur','city']='Bhalswa Jahangirpuri'"
   ]
  },
  {
   "cell_type": "code",
   "execution_count": 14,
   "metadata": {},
   "outputs": [],
   "source": [
    "def get_info(city_country, key=GOOGLE_API_KEY):\n",
    "\n",
    "    address = urllib.parse.quote(city_country)\n",
    "    url = f'https://maps.googleapis.com/maps/api/geocode/json?&address={address}&key={key}'\n",
    "    r = requests.get(url).json()\n",
    "    \n",
    "    if r['status']=='OK':\n",
    "        g = r['results'][0]\n",
    "        slsn, slln, lsn, lln, asn, aln, csn, cln = get_place_heirarchy(g)\n",
    "        formatted_address = g['formatted_address']\n",
    "        lat = g['geometry']['location']['lat']\n",
    "        lng = g['geometry']['location']['lng']\n",
    "    else:\n",
    "        slsn, slln, lsn, lln, asn, aln, csn, cln, formatted_address, lat, lng = tuple(None for _ in range(11))\n",
    "    \n",
    "    return slsn, slln, lsn, lln, asn, aln, csn, cln, formatted_address, lat, lng"
   ]
  },
  {
   "cell_type": "code",
   "execution_count": 15,
   "metadata": {},
   "outputs": [],
   "source": [
    "def get_place_heirarchy(g):\n",
    "    sublocality_short_name, sublocality_long_name, \\\n",
    "    locality_short_name, locality_long_name, \\\n",
    "    admin_level_short_name, admin_level_long_name, \\\n",
    "    country_short_name, country_long_name = \\\n",
    "        None, None, None, None, None, None, None, None\n",
    "    for comp in g['address_components']:\n",
    "        if 'country' in comp['types']:\n",
    "            country_short_name = comp['short_name']\n",
    "            country_long_name = comp['long_name']\n",
    "        if 'administrative_area_level_1' in comp['types']:\n",
    "            admin_level_short_name = comp['short_name']\n",
    "            admin_level_long_name = comp['long_name']\n",
    "        if 'locality' in comp['types']:\n",
    "            locality_short_name = comp['short_name']\n",
    "            locality_long_name = comp['long_name']\n",
    "        if 'sublocality' in comp['types']:\n",
    "            sublocality_short_name = comp['short_name']\n",
    "            sublocality_long_name = comp['long_name']\n",
    "    return sublocality_short_name, sublocality_long_name, \\\n",
    "        locality_short_name, locality_long_name, \\\n",
    "        admin_level_short_name, admin_level_long_name, \\\n",
    "        country_short_name, country_long_name"
   ]
  },
  {
   "cell_type": "code",
   "execution_count": null,
   "metadata": {},
   "outputs": [],
   "source": []
  },
  {
   "cell_type": "code",
   "execution_count": 18,
   "metadata": {},
   "outputs": [],
   "source": [
    "# run ALL the lookups with Google maps API\n",
    "info = [get_info(cc) for cc in df.combined_city_country]"
   ]
  },
  {
   "cell_type": "code",
   "execution_count": 19,
   "metadata": {},
   "outputs": [],
   "source": [
    "columns = [\n",
    "    'sublocality_short_name', 'sublocality_long_name',\n",
    "    'locality_short_name', 'locality_long_name',\n",
    "    'admin_level_short_name', 'admin_level_long_name',\n",
    "    'country_short_name', 'country_long_name',\n",
    "    'formatted_address', 'lat', 'lng'\n",
    "]\n",
    "gth = pd.DataFrame(info, columns=columns)\n",
    "gth = pd.concat([df, gth], sort=False, axis=1)"
   ]
  },
  {
   "cell_type": "code",
   "execution_count": null,
   "metadata": {},
   "outputs": [],
   "source": []
  },
  {
   "cell_type": "code",
   "execution_count": 35,
   "metadata": {},
   "outputs": [],
   "source": [
    "# manual updates to results from Google\n",
    "gth.loc[gth['locality_long_name']=='ADT',['locality_short_name','locality_long_name']] = 'Milagro'\n",
    "gth=gth[gth.city!='Greater Perth']\n",
    "gth.loc[gth['country_long_name']=='Namibia','country_short_name']='NM'\n",
    "# interesting that Google comes back with a NULL country for Palestinian cities\n",
    "gth.loc[gth['country']=='State of Palestine','country_short_name']='PA'"
   ]
  },
  {
   "cell_type": "code",
   "execution_count": 40,
   "metadata": {},
   "outputs": [],
   "source": [
    "def create_abbrev_map(gth):\n",
    "    grpd=gth.groupby('country_long_name').apply(lambda x:x['country_short_name'].mode())\n",
    "    #|grpd.index = grpd.index.droplevel(1)\n",
    "    return grpd"
   ]
  },
  {
   "cell_type": "code",
   "execution_count": 41,
   "metadata": {},
   "outputs": [],
   "source": [
    "abbrevs = create_abbrev_map(gth)"
   ]
  },
  {
   "cell_type": "code",
   "execution_count": 112,
   "metadata": {},
   "outputs": [],
   "source": [
    "# these can't be none in order to work with group by\n",
    "gth['admin_level_short_name'].fillna('', inplace=True)\n",
    "gth['admin_level_long_name'].fillna('', inplace=True)"
   ]
  },
  {
   "cell_type": "code",
   "execution_count": 42,
   "metadata": {},
   "outputs": [],
   "source": [
    "gth['country_long_name'].fillna(gth['country'], inplace=True)"
   ]
  },
  {
   "cell_type": "code",
   "execution_count": 43,
   "metadata": {},
   "outputs": [],
   "source": [
    "gth['country_short_name'] = [abbrevs.loc[k][0] for k in gth.country_long_name]"
   ]
  },
  {
   "cell_type": "code",
   "execution_count": 118,
   "metadata": {},
   "outputs": [],
   "source": [
    "def manage_sub_localities(m):\n",
    "    if len(m)==1:\n",
    "        return m\n",
    "    else:\n",
    "        country = m['country'].values[0]\n",
    "        city = m['locality_long_name'].values[0]\n",
    "        pop = m['population'].sum()\n",
    "        query = ' '.join([m['locality_long_name'].values[0], m['country_long_name'].values[0]])\n",
    "        i = get_info(query)\n",
    "\n",
    "        columns = [\n",
    "            'city','country','population','combined_city_country',\n",
    "            'sublocality_short_name', 'sublocality_long_name',\n",
    "            'locality_short_name', 'locality_long_name',\n",
    "            'admin_level_short_name', 'admin_level_long_name',\n",
    "            'country_short_name', 'country_long_name',\n",
    "            'formatted_address', 'lat', 'lng'\n",
    "        ]\n",
    "        v = tuple([city, country, pop, query] + [i for i in get_info(query)])\n",
    "        return pd.DataFrame([v], index=pd.RangeIndex(1), columns=columns)"
   ]
  },
  {
   "cell_type": "code",
   "execution_count": 125,
   "metadata": {},
   "outputs": [],
   "source": [
    "# group by locality and sum population\n",
    "reduced = gth.groupby(['locality_long_name','admin_level_long_name','country_long_name']).apply(manage_sub_localities)"
   ]
  },
  {
   "cell_type": "code",
   "execution_count": 126,
   "metadata": {},
   "outputs": [],
   "source": [
    "reduced.drop(['locality_long_name','admin_level_long_name','country_long_name'],axis=1,inplace=True)\n",
    "reduced.reset_index(inplace=True)\n",
    "reduced.drop('level_3',axis=1,inplace=True)"
   ]
  },
  {
   "cell_type": "code",
   "execution_count": 127,
   "metadata": {},
   "outputs": [],
   "source": [
    "# doops = reduced.groupby(['locality_long_name','admin_level_long_name','country_long_name']).count()\n",
    "# doops[doops.max(axis=1) > 1]"
   ]
  },
  {
   "cell_type": "code",
   "execution_count": 128,
   "metadata": {},
   "outputs": [],
   "source": [
    "# get rid of state of\n",
    "reduced.loc[[r.startswith('State of ') for r in reduced['admin_level_long_name']],'admin_level_long_name'] = [r[9:] for r in reduced['admin_level_long_name'] if r.startswith('State of ')]\n",
    "reduced.loc[[r.startswith('State of ') for r in reduced['country_long_name']],'country_long_name'] = [r[9:] for r in reduced['country_long_name'] if r.startswith('State of ')]"
   ]
  },
  {
   "cell_type": "code",
   "execution_count": 129,
   "metadata": {},
   "outputs": [],
   "source": [
    "final = reduced[['locality_long_name','admin_level_short_name','admin_level_long_name',\\\n",
    "                 'country_short_name','country_long_name',\\\n",
    "                 'population','lat','lng']].copy()\n",
    "final.columns = ['city','region_abbrev','region',\\\n",
    "                 'country_abbrev','country',\\\n",
    "                 'population','lat','lng']"
   ]
  },
  {
   "cell_type": "code",
   "execution_count": 130,
   "metadata": {},
   "outputs": [],
   "source": [
    "final.loc[final['city']=='창원시','city']='Changwon'"
   ]
  },
  {
   "cell_type": "code",
   "execution_count": 133,
   "metadata": {},
   "outputs": [],
   "source": [
    "final.sort_values('population',inplace=True,ascending=False)"
   ]
  },
  {
   "cell_type": "code",
   "execution_count": 134,
   "metadata": {},
   "outputs": [],
   "source": [
    "final.to_csv('final.csv', sep=',', index=False, header=True, encoding='utf8', quoting=2)"
   ]
  }
 ],
 "metadata": {
  "kernelspec": {
   "display_name": "Python 3",
   "language": "python",
   "name": "python3"
  },
  "language_info": {
   "codemirror_mode": {
    "name": "ipython",
    "version": 3
   },
   "file_extension": ".py",
   "mimetype": "text/x-python",
   "name": "python",
   "nbconvert_exporter": "python",
   "pygments_lexer": "ipython3",
   "version": "3.6.6"
  }
 },
 "nbformat": 4,
 "nbformat_minor": 2
}
